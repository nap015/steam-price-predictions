{
 "cells": [
  {
   "cell_type": "code",
   "execution_count": 1,
   "metadata": {},
   "outputs": [],
   "source": [
    "import gzip\n",
    "from collections import defaultdict"
   ]
  },
  {
   "cell_type": "code",
   "execution_count": 2,
   "metadata": {},
   "outputs": [],
   "source": [
    "def parse(path):\n",
    "  g = gzip.open(path, 'r')\n",
    "  for l in g:\n",
    "    yield eval(l)"
   ]
  },
  {
   "cell_type": "code",
   "execution_count": 105,
   "metadata": {},
   "outputs": [],
   "source": [
    "user_reviews = list(parse('australian_user_reviews.json.gz')) #game reviews"
   ]
  },
  {
   "cell_type": "code",
   "execution_count": 5,
   "metadata": {},
   "outputs": [],
   "source": [
    "item_descriptions = list(parse('steam_games.json.gz')) #metadata"
   ]
  },
  {
   "cell_type": "markdown",
   "metadata": {},
   "source": [
    "# Analysis of the data"
   ]
  },
  {
   "cell_type": "code",
   "execution_count": 6,
   "metadata": {},
   "outputs": [],
   "source": [
    "items = defaultdict(int)\n",
    "for item in item_descriptions:\n",
    "    items[item.get('id', '0')] = 0"
   ]
  },
  {
   "cell_type": "code",
   "execution_count": 7,
   "metadata": {},
   "outputs": [],
   "source": [
    "for user in user_reviews:\n",
    "    for review in user['reviews']:\n",
    "        items[review['item_id']] += 1"
   ]
  },
  {
   "cell_type": "code",
   "execution_count": 8,
   "metadata": {},
   "outputs": [],
   "source": [
    "non_zero = [i for (i, c) in items.items() if c > 0]"
   ]
  },
  {
   "cell_type": "code",
   "execution_count": 9,
   "metadata": {},
   "outputs": [
    {
     "data": {
      "text/plain": [
       "59305"
      ]
     },
     "execution_count": 9,
     "metadata": {},
     "output_type": "execute_result"
    }
   ],
   "source": [
    "# Total number of reviews\n",
    "sum(items.values())"
   ]
  },
  {
   "cell_type": "code",
   "execution_count": 10,
   "metadata": {},
   "outputs": [
    {
     "data": {
      "text/plain": [
       "3682"
      ]
     },
     "execution_count": 10,
     "metadata": {},
     "output_type": "execute_result"
    }
   ],
   "source": [
    "# Number of games that have reviews\n",
    "len(non_zero)"
   ]
  },
  {
   "cell_type": "code",
   "execution_count": 11,
   "metadata": {},
   "outputs": [
    {
     "data": {
      "text/plain": [
       "['user_id', 'user_url', 'reviews']"
      ]
     },
     "execution_count": 11,
     "metadata": {},
     "output_type": "execute_result"
    }
   ],
   "source": [
    "list(user_reviews[0].keys())"
   ]
  },
  {
   "cell_type": "code",
   "execution_count": 12,
   "metadata": {},
   "outputs": [
    {
     "data": {
      "text/plain": [
       "['funny', 'posted', 'last_edited', 'item_id', 'helpful', 'recommend', 'review']"
      ]
     },
     "execution_count": 12,
     "metadata": {},
     "output_type": "execute_result"
    }
   ],
   "source": [
    "list(user_reviews[0]['reviews'][0].keys())"
   ]
  },
  {
   "cell_type": "code",
   "execution_count": 83,
   "metadata": {},
   "outputs": [
    {
     "data": {
      "text/plain": [
       "{'funny': '',\n",
       " 'posted': 'Posted November 5, 2011.',\n",
       " 'last_edited': '',\n",
       " 'item_id': '1250',\n",
       " 'helpful': 'No ratings yet',\n",
       " 'recommend': True,\n",
       " 'review': 'Simple yet with great replayability. In my opinion does \"zombie\" hordes and team work better than left 4 dead plus has a global leveling system. Alot of down to earth \"zombie\" splattering fun for the whole family. Amazed this sort of FPS is so rare.'}"
      ]
     },
     "execution_count": 83,
     "metadata": {},
     "output_type": "execute_result"
    }
   ],
   "source": [
    "user_reviews[0]['reviews'][0]"
   ]
  },
  {
   "cell_type": "code",
   "execution_count": 121,
   "metadata": {},
   "outputs": [],
   "source": [
    "funnycount = 0\n",
    "helpfulcount = 0\n",
    "\n",
    "for l in user_reviews:\n",
    "    try:\n",
    "        funny = l['reviews'][0].get('funny').split(' ', 1)[0]\n",
    "        if not funny in ('', 'No'):\n",
    "            funnycount += 1 #int(funny.replace(',',''))\n",
    "        helpful = l['reviews'][0].get('helpful').split(' ', 1)[0]\n",
    "        if not helpful in ('', 'No'):\n",
    "            helpfulcount += 1 #int(helpful.replace(',',''))\n",
    "    except IndexError:\n",
    "        pass"
   ]
  },
  {
   "cell_type": "code",
   "execution_count": 102,
   "metadata": {},
   "outputs": [
    {
     "data": {
      "text/plain": [
       "''"
      ]
     },
     "execution_count": 102,
     "metadata": {},
     "output_type": "execute_result"
    }
   ],
   "source": [
    "str = ''\n",
    "str.split(' ', 1)[0]"
   ]
  },
  {
   "cell_type": "code",
   "execution_count": 108,
   "metadata": {},
   "outputs": [
    {
     "ename": "ValueError",
     "evalue": "invalid literal for int() with base 10: '1,130'",
     "output_type": "error",
     "traceback": [
      "\u001b[0;31m---------------------------------------------------------------------------\u001b[0m",
      "\u001b[0;31mValueError\u001b[0m                                Traceback (most recent call last)",
      "\u001b[0;32m<ipython-input-108-2c67d965e514>\u001b[0m in \u001b[0;36m<module>\u001b[0;34m\u001b[0m\n\u001b[0;32m----> 1\u001b[0;31m \u001b[0mint\u001b[0m\u001b[0;34m(\u001b[0m\u001b[0;34m'1,130'\u001b[0m\u001b[0;34m)\u001b[0m\u001b[0;34m\u001b[0m\u001b[0;34m\u001b[0m\u001b[0m\n\u001b[0m",
      "\u001b[0;31mValueError\u001b[0m: invalid literal for int() with base 10: '1,130'"
     ]
    }
   ],
   "source": [
    "int('1,130')"
   ]
  },
  {
   "cell_type": "code",
   "execution_count": 122,
   "metadata": {},
   "outputs": [
    {
     "data": {
      "text/plain": [
       "15768"
      ]
     },
     "execution_count": 122,
     "metadata": {},
     "output_type": "execute_result"
    }
   ],
   "source": [
    "helpfulcount"
   ]
  },
  {
   "cell_type": "code",
   "execution_count": 123,
   "metadata": {},
   "outputs": [
    {
     "data": {
      "text/plain": [
       "4204"
      ]
     },
     "execution_count": 123,
     "metadata": {},
     "output_type": "execute_result"
    }
   ],
   "source": [
    "funnycount"
   ]
  },
  {
   "cell_type": "code",
   "execution_count": 127,
   "metadata": {},
   "outputs": [
    {
     "data": {
      "image/png": "[encoded data removed]",
      "text/plain": [
       "<Figure size 648x72 with 1 Axes>"
      ]
     },
     "metadata": {
      "needs_background": "light"
     },
     "output_type": "display_data"
    }
   ],
   "source": [
    "names = ['helpful', 'funny']\n",
    "values = [helpfulcount, funnycount]\n",
    "\n",
    "plt.figure(figsize=(9, 1))\n",
    "plt.barh(names, values, color='navy')\n",
    "plt.xlabel('Number of Reviews')\n",
    "plt.show()"
   ]
  },
  {
   "cell_type": "code",
   "execution_count": 13,
   "metadata": {},
   "outputs": [
    {
     "data": {
      "text/plain": [
       "['publisher',\n",
       " 'genres',\n",
       " 'app_name',\n",
       " 'title',\n",
       " 'url',\n",
       " 'release_date',\n",
       " 'tags',\n",
       " 'discount_price',\n",
       " 'reviews_url',\n",
       " 'specs',\n",
       " 'price',\n",
       " 'early_access',\n",
       " 'id',\n",
       " 'developer']"
      ]
     },
     "execution_count": 13,
     "metadata": {},
     "output_type": "execute_result"
    }
   ],
   "source": [
    "list(item_descriptions[0].keys())"
   ]
  },
  {
   "cell_type": "markdown",
   "metadata": {},
   "source": [
    "# Data processing"
   ]
  },
  {
   "cell_type": "code",
   "execution_count": 14,
   "metadata": {},
   "outputs": [],
   "source": [
    "# Map item ids to the corresponding entries\n",
    "items = { i.get('id', '0'): i for i in item_descriptions }"
   ]
  },
  {
   "cell_type": "code",
   "execution_count": 15,
   "metadata": {},
   "outputs": [],
   "source": [
    "no_record = 0\n",
    "no_attr = 0\n",
    "no_price = 0\n",
    "\n",
    "def format_review(review):\n",
    "    item = items.get(review['item_id'], None)\n",
    "    \n",
    "    if not item:\n",
    "        # Non-existent item\n",
    "        global no_record\n",
    "        no_record += 1\n",
    "        return None\n",
    "    \n",
    "    if 'genres' not in item.keys() or 'price' not in item.keys() or 'release_date' not in item.keys():\n",
    "        # Missing attribute\n",
    "        global no_attr\n",
    "        no_attr += 1\n",
    "        return None\n",
    "    \n",
    "    date_posted = review['posted'][7:-1]\n",
    "    \n",
    "    month_posted = date_posted.split(' ')[0]\n",
    "    year_posted = int(date_posted.split(' ')[-1])\n",
    "    \n",
    "    # Remove old/incorrectly dated reviews\n",
    "    if year_posted < 2010:\n",
    "        return None\n",
    "    \n",
    "    # if price is not a float, ignore it\n",
    "    if type(item['price']) == str:\n",
    "        global no_price\n",
    "        no_price += 1\n",
    "        return None\n",
    "    \n",
    "    return {\n",
    "        'text': review['review'],\n",
    "        'genres': item['genres'],\n",
    "        'price': item['price'],\n",
    "        'release_date': item['release_date'],\n",
    "         # Remove <Posted > part\n",
    "        'date_posted': review['posted'][7:-1],\n",
    "        'tags': item['tags']\n",
    "    }\n",
    "    "
   ]
  },
  {
   "cell_type": "code",
   "execution_count": 16,
   "metadata": {},
   "outputs": [],
   "source": [
    "# Create the data list\n",
    "data = []\n",
    "for user in user_reviews:\n",
    "    for review in user['reviews']:\n",
    "        data.append(format_review(review))\n",
    "        \n",
    "data = [d for d in data if d is not None]"
   ]
  },
  {
   "cell_type": "code",
   "execution_count": 17,
   "metadata": {},
   "outputs": [
    {
     "data": {
      "text/plain": [
       "30179"
      ]
     },
     "execution_count": 17,
     "metadata": {},
     "output_type": "execute_result"
    }
   ],
   "source": [
    "len(data)"
   ]
  },
  {
   "cell_type": "code",
   "execution_count": 18,
   "metadata": {},
   "outputs": [
    {
     "data": {
      "text/plain": [
       "{'text': 'Simple yet with great replayability. In my opinion does \"zombie\" hordes and team work better than left 4 dead plus has a global leveling system. Alot of down to earth \"zombie\" splattering fun for the whole family. Amazed this sort of FPS is so rare.',\n",
       " 'genres': ['Action'],\n",
       " 'price': 19.99,\n",
       " 'release_date': '2009-05-14',\n",
       " 'date_posted': 'November 5, 2011',\n",
       " 'tags': ['FPS',\n",
       "  'Zombies',\n",
       "  'Co-op',\n",
       "  'Survival',\n",
       "  'Action',\n",
       "  'Multiplayer',\n",
       "  'Horror',\n",
       "  'Online Co-Op',\n",
       "  'Shooter',\n",
       "  'Gore',\n",
       "  'Team-Based',\n",
       "  'First-Person',\n",
       "  'Moddable',\n",
       "  'Survival Horror',\n",
       "  'Great Soundtrack',\n",
       "  'Singleplayer',\n",
       "  'Class-Based',\n",
       "  'Difficult',\n",
       "  'Comedy',\n",
       "  'Adventure']}"
      ]
     },
     "execution_count": 18,
     "metadata": {},
     "output_type": "execute_result"
    }
   ],
   "source": [
    "data[0]"
   ]
  },
  {
   "cell_type": "code",
   "execution_count": 19,
   "metadata": {},
   "outputs": [
    {
     "data": {
      "text/plain": [
       "'Missing game info: 5317; Missing attribute: 4290; Missing price: 10876'"
      ]
     },
     "execution_count": 19,
     "metadata": {},
     "output_type": "execute_result"
    }
   ],
   "source": [
    "f'Missing game info: {no_record}; Missing attribute: {no_attr}; Missing price: {no_price}'"
   ]
  },
  {
   "cell_type": "markdown",
   "metadata": {},
   "source": [
    "# Train/Valid data split"
   ]
  },
  {
   "cell_type": "code",
   "execution_count": 20,
   "metadata": {},
   "outputs": [],
   "source": [
    "# Sort data by the release date\n",
    "sorted_data = sorted(data, key = lambda x: x['release_date'])\n",
    "\n",
    "#randomly shuffle the data\n",
    "import random\n",
    "random.shuffle(data)"
   ]
  },
  {
   "cell_type": "code",
   "execution_count": 21,
   "metadata": {},
   "outputs": [
    {
     "name": "stdout",
     "output_type": "stream",
     "text": [
      "{'text': 'Not worth the 23 Euros I spent. Fun game, but it gets really boring really fast. Buy it on a sale if anything. Recommended if you want to be a neo-nazistic dictator.', 'genres': ['Indie', 'Simulation', 'Strategy'], 'price': 24.99, 'release_date': '2013-10-14', 'date_posted': 'February 3, 2014', 'tags': ['Simulation', 'Politics', 'Strategy', 'Indie', 'Turn-Based', 'Singleplayer', 'Political', 'Economy', 'Sandbox', 'Management', 'Moddable', 'Difficult', '2D', 'Casual', 'Turn-Based Strategy', 'Education', 'Funny']}\n"
     ]
    }
   ],
   "source": [
    "print(data[0])"
   ]
  },
  {
   "cell_type": "code",
   "execution_count": 189,
   "metadata": {},
   "outputs": [],
   "source": [
    "data_train = data[:27000]\n",
    "data_valid = data[27000:]"
   ]
  },
  {
   "cell_type": "code",
   "execution_count": 190,
   "metadata": {},
   "outputs": [],
   "source": [
    "Y_train = [d['price'] for d in data_train]\n",
    "Y_valid = [d['price'] for d in data_valid]"
   ]
  },
  {
   "cell_type": "markdown",
   "metadata": {},
   "source": [
    "# Review text cleanup"
   ]
  },
  {
   "cell_type": "code",
   "execution_count": 30,
   "metadata": {},
   "outputs": [],
   "source": [
    "from string import punctuation\n",
    "from nltk.tokenize import word_tokenize\n",
    "from nltk.corpus import stopwords\n",
    "from nltk.stem.porter import PorterStemmer\n",
    "\n",
    "porter = PorterStemmer()\n",
    "\n",
    "def clean(text):\n",
    "    tokens = word_tokenize(text)\n",
    "    # convert to lower case\n",
    "    tokens = [w.lower() for w in tokens]\n",
    "    # remove punctuation from each word\n",
    "    import string\n",
    "    table = str.maketrans('', '', punctuation)\n",
    "    stripped = [w.translate(table) for w in tokens]\n",
    "    # remove remaining tokens that are not alphabetic\n",
    "    words = [word for word in stripped if word.isalpha()]\n",
    "    # filter out stop words\n",
    "    stop_words = set(stopwords.words('english'))\n",
    "    \n",
    "    words = [w for w in words if not w in stop_words]\n",
    "    stemmed = [porter.stem(word) for word in words]\n",
    "    \n",
    "    return ' '.join(stemmed)"
   ]
  },
  {
   "cell_type": "code",
   "execution_count": 33,
   "metadata": {},
   "outputs": [
    {
     "name": "stderr",
     "output_type": "stream",
     "text": [
      "[nltk_data] Downloading package punkt to /Users/nayoung/nltk_data...\n",
      "[nltk_data]   Package punkt is already up-to-date!\n",
      "[nltk_data] Downloading package stopwords to\n",
      "[nltk_data]     /Users/nayoung/nltk_data...\n",
      "[nltk_data]   Unzipping corpora/stopwords.zip.\n"
     ]
    },
    {
     "data": {
      "text/plain": [
       "[(35512, 'game'),\n",
       " (9364, 'play'),\n",
       " (6160, 'get'),\n",
       " (5854, 'like'),\n",
       " (5402, 'good'),\n",
       " (5366, 'nt'),\n",
       " (5345, 'fun'),\n",
       " (4973, 'great'),\n",
       " (4300, 'one'),\n",
       " (3620, 'realli'),\n",
       " (3582, 'would'),\n",
       " (3371, 'time'),\n",
       " (3254, 'make'),\n",
       " (3186, 'best'),\n",
       " (2715, 'buy'),\n",
       " (2549, 'love'),\n",
       " (2394, 'much'),\n",
       " (2387, 'go'),\n",
       " (2312, 'stori'),\n",
       " (2297, 'even'),\n",
       " (2291, 'amaz'),\n",
       " (2079, 'ever'),\n",
       " (2063, 'recommend'),\n",
       " (2057, 'want'),\n",
       " (2025, 'still'),\n",
       " (1972, 'thing'),\n",
       " (1962, 'awesom'),\n",
       " (1961, 'well'),\n",
       " (1937, 'peopl'),\n",
       " (1866, 'hour')]"
      ]
     },
     "execution_count": 33,
     "metadata": {},
     "output_type": "execute_result"
    }
   ],
   "source": [
    "import nltk\n",
    "nltk.download('punkt')\n",
    "nltk.download('stopwords')\n",
    "    \n",
    "for d in data:\n",
    "    d['text'] = clean(d['text'])\n",
    "    \n",
    "import string\n",
    "from nltk.stem.porter import *\n",
    "\n",
    "wordCount = defaultdict(int) #for bigrams\n",
    "for d in data:\n",
    "    words = d['text'].split() # tokenizes\n",
    "    for w in words:\n",
    "        wordCount[w] += 1\n",
    "        \n",
    "counts = [(wordCount[w], w) for w in wordCount]\n",
    "counts.sort()\n",
    "counts.reverse()\n",
    "\n",
    "counts[:30]"
   ]
  },
  {
   "cell_type": "code",
   "execution_count": 60,
   "metadata": {},
   "outputs": [],
   "source": [
    "import numpy as np\n",
    "import matplotlib.pyplot as plt\n",
    "\n",
    "plotwords = counts[:25]\n",
    "plotwords.sort()\n",
    "freq = [x[0] for x in plotwords]\n",
    "word = [x[1] for x in plotwords]"
   ]
  },
  {
   "cell_type": "code",
   "execution_count": 61,
   "metadata": {},
   "outputs": [
    {
     "data": {
      "image/png": "[encoded data removed]",
      "text/plain": [
       "<Figure size 432x288 with 1 Axes>"
      ]
     },
     "metadata": {
      "needs_background": "light"
     },
     "output_type": "display_data"
    }
   ],
   "source": [
    "plt.barh(word, width=freq, align='center')\n",
    "plt.xlabel('Frequency')\n",
    "plt.ylabel('Words')\n",
    "plt.show()"
   ]
  },
  {
   "cell_type": "code",
   "execution_count": 192,
   "metadata": {},
   "outputs": [],
   "source": [
    "for d in data_train:\n",
    "    d['text'] = clean(d['text'])"
   ]
  },
  {
   "cell_type": "code",
   "execution_count": 193,
   "metadata": {},
   "outputs": [],
   "source": [
    "for d in data_valid:\n",
    "    d['text'] = clean(d['text'])"
   ]
  },
  {
   "cell_type": "code",
   "execution_count": 64,
   "metadata": {},
   "outputs": [
    {
     "data": {
      "text/plain": [
       "[('Web Publishing', 67.93117647058823),\n",
       " ('Game Development', 55.799523809523805),\n",
       " ('Basketball', 50.49),\n",
       " ('Dragons', 47.512435897435715),\n",
       " ('Design & Illustration', 47.24),\n",
       " ('Audio Production', 46.656666666666666),\n",
       " ('Free to Play', 46.1873632812503),\n",
       " ('Rome', 45.79303448275849),\n",
       " ('MOBA', 41.09052631578948),\n",
       " ('America', 37.841351351351165),\n",
       " ('Turn-Based Tactics', 35.769354838709575),\n",
       " ('Utilities', 35.230000000000004),\n",
       " ('Education', 35.185123216602314),\n",
       " ('Space Sim', 34.38344262295068),\n",
       " ('Hacking', 33.90945833333317),\n",
       " ('Real Time Tactics', 33.663068592057634),\n",
       " ('Illuminati', 32.89432098765415),\n",
       " ('Grand Strategy', 32.31157961783484),\n",
       " ('Diplomacy', 31.689779249447938),\n",
       " ('TrackIR', 31.67900804289527),\n",
       " ('Software Training', 31.35363636363637),\n",
       " ('Base Building', 30.832093023256235),\n",
       " ('MMORPG', 30.21367537313414),\n",
       " ('Futuristic', 29.80746031746026),\n",
       " ('4X', 29.722727272727084),\n",
       " ('Hex Grid', 29.445242966751746),\n",
       " ('Software', 29.127931034482764),\n",
       " ('Dinosaurs', 28.608942731277352),\n",
       " ('Turn-Based Strategy', 28.549433427762654),\n",
       " ('Time Travel', 28.208309859154774),\n",
       " ('Quick-Time Events', 28.107139334155676),\n",
       " ('Linear', 27.9797540983612),\n",
       " ('Political', 27.48749582637711),\n",
       " ('Spectacle fighter', 27.441923076923022),\n",
       " ('VR', 27.181111111110962),\n",
       " ('Philisophical', 26.94652173913044),\n",
       " ('Parkour', 26.33603501544842),\n",
       " ('Driving', 26.1763157894735),\n",
       " ('Politics', 25.798823529411674),\n",
       " ('Turn-Based', 25.767157660992385),\n",
       " ('Flight', 25.383874999999925),\n",
       " ('Character Action Game', 24.990000000000006),\n",
       " ('Racing', 24.925150000000617),\n",
       " ('CRPG', 24.54882352941177),\n",
       " ('RTS', 24.253127925117617),\n",
       " ('Programming', 24.24028571428572),\n",
       " ('Drama', 24.22255813953474),\n",
       " ('Demons', 24.021914893617005),\n",
       " ('City Builder', 23.973682092555148),\n",
       " ('Economy', 23.949630911188187)]"
      ]
     },
     "execution_count": 64,
     "metadata": {},
     "output_type": "execute_result"
    }
   ],
   "source": [
    "wps = defaultdict(float)\n",
    "wcs = defaultdict(int)\n",
    "for d in data:\n",
    "    ws = set(d['tags'])\n",
    "    for w in ws:\n",
    "        wps[w] += d['price']\n",
    "        wcs[w] += 1\n",
    "\n",
    "wavgp = defaultdict(float)\n",
    "for w in wps:\n",
    "    wavgp[w] = wps[w] / wcs[w]\n",
    "w_avg_prices = [(w, p) for (w, p) in wavgp.items()]\n",
    "w_avg_prices.sort(key=lambda x: x[1], reverse=True)\n",
    "w_avg_prices[:50]"
   ]
  },
  {
   "cell_type": "code",
   "execution_count": 97,
   "metadata": {},
   "outputs": [
    {
     "data": {
      "image/png": "[encoded data removed]",
      "text/plain": [
       "<Figure size 720x576 with 1 Axes>"
      ]
     },
     "metadata": {
      "needs_background": "light"
     },
     "output_type": "display_data"
    }
   ],
   "source": [
    "fig_size = plt.rcParams[\"figure.figsize\"]\n",
    "fig_size[0] = 10\n",
    "fig_size[1] = 8\n",
    "plt.rcParams[\"figure.figsize\"] = fig_size\n",
    "\n",
    "plottags = w_avg_prices[17:42]\n",
    "plottags.sort(key=lambda x: x[1])\n",
    "price = [x[1] for x in plottags]\n",
    "tag = [x[0] for x in plottags]\n",
    "\n",
    "plt.barh(tag, width=price, align='center', color='orange')\n",
    "plt.xlabel('Average Price ($USD)')\n",
    "plt.ylabel('Tags')\n",
    "plt.show()"
   ]
  },
  {
   "cell_type": "code",
   "execution_count": null,
   "metadata": {},
   "outputs": [],
   "source": [
    "price = [x[0] for x in plottags]\n",
    "tag = [x[1] for x in plottags]\n",
    "\n",
    "plt.barh(tag, width=price, align='center')\n",
    "plt.xlabel('Average Price')\n",
    "plt.ylabel('Tags')\n",
    "plt.show()"
   ]
  },
  {
   "cell_type": "markdown",
   "metadata": {},
   "source": [
    "# Feature extraction"
   ]
  },
  {
   "cell_type": "code",
   "execution_count": 499,
   "metadata": {},
   "outputs": [],
   "source": [
    "months = {\n",
    "    'January': 0,\n",
    "    'February': 1,\n",
    "    'March': 2,\n",
    "    'April': 3,\n",
    "    'May': 4,\n",
    "    'June': 5,\n",
    "    'July': 6,\n",
    "    'August': 7,\n",
    "    'September': 8,\n",
    "    'October': 9,\n",
    "    'November': 10,\n",
    "    'December': 11\n",
    "}\n",
    "\n",
    "year = [0] * 6"
   ]
  },
  {
   "cell_type": "code",
   "execution_count": 500,
   "metadata": {},
   "outputs": [],
   "source": [
    "# one hot encoding for 85 most popular tags\n",
    "tag_counts = defaultdict(int)\n",
    "\n",
    "for e in data_train + data_valid:\n",
    "    for tag in e['tags']:\n",
    "        tag_counts[tag] += 1"
   ]
  },
  {
   "cell_type": "code",
   "execution_count": 501,
   "metadata": {},
   "outputs": [],
   "source": [
    "tag_list = [(tag, c) for (tag, c) in tag_counts.items()]"
   ]
  },
  {
   "cell_type": "code",
   "execution_count": 502,
   "metadata": {
    "scrolled": false
   },
   "outputs": [],
   "source": [
    "tag_list.sort(key=lambda x: x[1], reverse=True)"
   ]
  },
  {
   "cell_type": "code",
   "execution_count": 503,
   "metadata": {},
   "outputs": [],
   "source": [
    "tag_choices = [t for (t, c) in tag_list[:100]]"
   ]
  },
  {
   "cell_type": "code",
   "execution_count": 504,
   "metadata": {},
   "outputs": [],
   "source": [
    "tags = { t: i for (t, i) in zip(tag_choices, range(len(tag_choices))) }"
   ]
  },
  {
   "cell_type": "code",
   "execution_count": 508,
   "metadata": {},
   "outputs": [],
   "source": [
    "def baseline_feature(entry):\n",
    "    # no offset term\n",
    "    feat = []\n",
    "    \n",
    "    # one-hot encode tags\n",
    "    tag_feat = [0] * len(tags.keys())\n",
    "    for tag in entry['tags']:\n",
    "        if tag in tags:\n",
    "            tag_feat[tags[tag]] = 1\n",
    "        \n",
    "    # one-hot encode date\n",
    "    date_feat = [0] * 6 + [0] * 12\n",
    "    date_posted = entry['date_posted']\n",
    "    \n",
    "    month_posted = months[date_posted.split(' ')[0]]\n",
    "    year_posted = int(date_posted.split(' ')[-1])\n",
    "    \n",
    "    date_feat[year_posted - 2010] = 1\n",
    "    date_feat[4 + month_posted] = 1\n",
    "    \n",
    "    feat.extend(date_feat)\n",
    "    feat.extend(tag_feat)\n",
    "    \n",
    "    return feat"
   ]
  },
  {
   "cell_type": "markdown",
   "metadata": {},
   "source": [
    "# Baseline Model"
   ]
  },
  {
   "cell_type": "code",
   "execution_count": 509,
   "metadata": {},
   "outputs": [],
   "source": [
    "X_train = [baseline_feature(d) for d in data_train]"
   ]
  },
  {
   "cell_type": "code",
   "execution_count": 510,
   "metadata": {},
   "outputs": [
    {
     "data": {
      "text/plain": [
       "118"
      ]
     },
     "execution_count": 510,
     "metadata": {},
     "output_type": "execute_result"
    }
   ],
   "source": [
    "len(X_train[0])"
   ]
  },
  {
   "cell_type": "code",
   "execution_count": 512,
   "metadata": {},
   "outputs": [
    {
     "data": {
      "text/plain": [
       "18.910444444444444"
      ]
     },
     "execution_count": 512,
     "metadata": {},
     "output_type": "execute_result"
    }
   ],
   "source": [
    "# 19 labels marked on average\n",
    "sum([sum(x) for x in X_train]) / len(X_train)"
   ]
  },
  {
   "cell_type": "code",
   "execution_count": 513,
   "metadata": {},
   "outputs": [],
   "source": [
    "X_valid = [baseline_feature(d) for d in data_valid]"
   ]
  },
  {
   "cell_type": "code",
   "execution_count": 514,
   "metadata": {},
   "outputs": [
    {
     "data": {
      "text/plain": [
       "True"
      ]
     },
     "execution_count": 514,
     "metadata": {},
     "output_type": "execute_result"
    }
   ],
   "source": [
    "len(X_train) == len(Y_train)"
   ]
  },
  {
   "cell_type": "code",
   "execution_count": 515,
   "metadata": {},
   "outputs": [
    {
     "data": {
      "text/plain": [
       "0.37232878553368487"
      ]
     },
     "execution_count": 515,
     "metadata": {},
     "output_type": "execute_result"
    }
   ],
   "source": [
    "# sklearn attempt\n",
    "from sklearn.linear_model import LinearRegression\n",
    "\n",
    "sk_X = np.array(X_train)\n",
    "sk_Y = np.array(Y_train)\n",
    "\n",
    "reg = LinearRegression(normalize=True).fit(sk_X, sk_Y)\n",
    "\n",
    "reg.score(sk_X, sk_Y)"
   ]
  },
  {
   "cell_type": "code",
   "execution_count": 516,
   "metadata": {},
   "outputs": [],
   "source": [
    "def predict(theta, X_valid):\n",
    "    predictions = []\n",
    "    for e in X_valid:\n",
    "        predictions.append(sum([a*b for (a, b) in zip(theta, e)]))\n",
    "    return predictions"
   ]
  },
  {
   "cell_type": "code",
   "execution_count": 517,
   "metadata": {},
   "outputs": [],
   "source": [
    "predictions = reg.predict(X_valid)"
   ]
  },
  {
   "cell_type": "code",
   "execution_count": 518,
   "metadata": {
    "scrolled": true
   },
   "outputs": [
    {
     "data": {
      "text/plain": [
       "18.855300408933626"
      ]
     },
     "execution_count": 518,
     "metadata": {},
     "output_type": "execute_result"
    }
   ],
   "source": [
    "sum([sum(x) for x in X_valid]) / len(X_valid)"
   ]
  },
  {
   "cell_type": "code",
   "execution_count": 519,
   "metadata": {},
   "outputs": [],
   "source": [
    "from sklearn import metrics"
   ]
  },
  {
   "cell_type": "code",
   "execution_count": 520,
   "metadata": {
    "scrolled": true
   },
   "outputs": [
    {
     "data": {
      "text/plain": [
       "63.445521437631236"
      ]
     },
     "execution_count": 520,
     "metadata": {},
     "output_type": "execute_result"
    }
   ],
   "source": [
    "metrics.mean_squared_error(Y_valid, predictions)"
   ]
  },
  {
   "cell_type": "code",
   "execution_count": 521,
   "metadata": {},
   "outputs": [
    {
     "data": {
      "text/plain": [
       "0.5527165942288355"
      ]
     },
     "execution_count": 521,
     "metadata": {},
     "output_type": "execute_result"
    }
   ],
   "source": [
    "metrics.r2_score(Y_valid, predictions)"
   ]
  },
  {
   "cell_type": "markdown",
   "metadata": {},
   "source": [
    "# TF-IDF Analysis"
   ]
  },
  {
   "cell_type": "code",
   "execution_count": 422,
   "metadata": {},
   "outputs": [],
   "source": [
    "from sklearn.feature_extraction.text import TfidfVectorizer as tfidf"
   ]
  },
  {
   "cell_type": "code",
   "execution_count": 423,
   "metadata": {},
   "outputs": [],
   "source": [
    "vectorizer = tfidf(max_features=7000)"
   ]
  },
  {
   "cell_type": "code",
   "execution_count": 424,
   "metadata": {},
   "outputs": [],
   "source": [
    "corpus = [d['text'] for d in data_train]\n",
    "tfidf_result = vectorizer.fit_transform(corpus)"
   ]
  },
  {
   "cell_type": "code",
   "execution_count": 425,
   "metadata": {},
   "outputs": [
    {
     "data": {
      "text/plain": [
       "(27000, 7000)"
      ]
     },
     "execution_count": 425,
     "metadata": {},
     "output_type": "execute_result"
    }
   ],
   "source": [
    "tfidf_result.shape"
   ]
  },
  {
   "cell_type": "code",
   "execution_count": 388,
   "metadata": {},
   "outputs": [],
   "source": [
    "from sklearn.decomposition import PCA"
   ]
  },
  {
   "cell_type": "code",
   "execution_count": 460,
   "metadata": {},
   "outputs": [],
   "source": [
    "# reduce dimensionality\n",
    "pca = PCA(n_components=100)\n",
    "\n",
    "tfidf_feat = pca.fit_transform(tfidf_result.toarray())"
   ]
  },
  {
   "cell_type": "code",
   "execution_count": 461,
   "metadata": {},
   "outputs": [
    {
     "data": {
      "text/plain": [
       "(27000, 100)"
      ]
     },
     "execution_count": 461,
     "metadata": {},
     "output_type": "execute_result"
    }
   ],
   "source": [
    "tfidf_feat.shape"
   ]
  },
  {
   "cell_type": "code",
   "execution_count": 28,
   "metadata": {},
   "outputs": [
    {
     "data": {
      "text/plain": [
       "[(47273, 'the'),\n",
       " (35068, 'game'),\n",
       " (31918, 'and'),\n",
       " (31082, 'a'),\n",
       " (27183, 'it'),\n",
       " (27027, 'to'),\n",
       " (22331, 'is'),\n",
       " (21564, 'of'),\n",
       " (21236, 'i'),\n",
       " (20143, 'you'),\n",
       " (19333, 'thi'),\n",
       " (11947, 'in'),\n",
       " (10624, 'that'),\n",
       " (10352, 'for'),\n",
       " (9593, 'with'),\n",
       " (9295, 'play'),\n",
       " (8853, 'but'),\n",
       " (7611, 'have'),\n",
       " (6883, 'on'),\n",
       " (6449, 'be'),\n",
       " (6422, 'are'),\n",
       " (6332, 'as'),\n",
       " (6124, 'get'),\n",
       " (6013, 'your'),\n",
       " (5825, 'like'),\n",
       " (5711, 'if'),\n",
       " (5344, 'can'),\n",
       " (5324, 'good'),\n",
       " (5272, 'fun'),\n",
       " (5255, 'not')]"
      ]
     },
     "execution_count": 28,
     "metadata": {},
     "output_type": "execute_result"
    }
   ],
   "source": [
    "import string\n",
    "from nltk.stem.porter import *\n",
    "\n",
    "stemmer = PorterStemmer()\n",
    "\n",
    "wordCount = defaultdict(int) #for bigrams\n",
    "punctuation = set(string.punctuation)\n",
    "for d in data:\n",
    "    r = ''.join([c for c in d['text'].lower() if not c in punctuation])\n",
    "    words = r.strip().split() # tokenizes\n",
    "    for w in words:\n",
    "        w = stemmer.stem(w)\n",
    "        wordCount[w] += 1\n",
    "        \n",
    "counts = [(wordCount[w], w) for w in wordCount]\n",
    "counts.sort()\n",
    "counts.reverse()\n",
    "\n",
    "counts[:30]"
   ]
  },
  {
   "cell_type": "code",
   "execution_count": 26,
   "metadata": {},
   "outputs": [
    {
     "data": {
      "text/plain": [
       "[(10739, 'this game'),\n",
       " (5468, 'the game'),\n",
       " (4875, 'of the'),\n",
       " (4478, 'game is'),\n",
       " (3315, 'if you'),\n",
       " (3245, 'is a'),\n",
       " (2695, '3 3'),\n",
       " (2652, 'in the'),\n",
       " (2637, 'it is'),\n",
       " (2492, 'this is'),\n",
       " (2258, 'you can'),\n",
       " (1980, 'i have'),\n",
       " (1962, 'one of'),\n",
       " (1935, 'the best'),\n",
       " (1917, 'to the'),\n",
       " (1912, 'to play'),\n",
       " (1871, 'and the'),\n",
       " (1760, 'great game'),\n",
       " (1600, 'nyan nyan'),\n",
       " (1466, 'to be'),\n",
       " (1423, 'and i'),\n",
       " (1398, 'is the'),\n",
       " (1381, 'game i'),\n",
       " (1359, 'a great'),\n",
       " (1295, 'with a'),\n",
       " (1295, 'game and'),\n",
       " (1283, 'on the'),\n",
       " (1277, 'for the'),\n",
       " (1244, 'a game'),\n",
       " (1212, 'good game')]"
      ]
     },
     "execution_count": 26,
     "metadata": {},
     "output_type": "execute_result"
    }
   ],
   "source": [
    "counts[:30]"
   ]
  },
  {
   "cell_type": "markdown",
   "metadata": {},
   "source": [
    "# With TF-IDF"
   ]
  },
  {
   "cell_type": "markdown",
   "metadata": {},
   "source": [
    "## Use more tags and review data"
   ]
  },
  {
   "cell_type": "code",
   "execution_count": 551,
   "metadata": {},
   "outputs": [],
   "source": [
    "tag_choices = [t for (t, c) in tag_list[:150]]\n",
    "tags = { t: i for (t, i) in zip(tag_choices, range(len(tag_choices))) }"
   ]
  },
  {
   "cell_type": "code",
   "execution_count": 552,
   "metadata": {},
   "outputs": [],
   "source": [
    "def feature(i, entry):\n",
    "    feat = []\n",
    "    \n",
    "    # get the review tfidf data\n",
    "    tfidf = tfidf_feat[i]\n",
    "    \n",
    "    # one-hot encode tags\n",
    "    tag_feat = [0] * len(tags.keys())\n",
    "    for tag in entry['tags']:\n",
    "        if tag in tags:\n",
    "            tag_feat[tags[tag]] = 1\n",
    "    \n",
    "    # one-hot encode date\n",
    "    date_feat = [0] * 6 + [0] * 12\n",
    "    date_posted = entry['date_posted']\n",
    "    \n",
    "    month_posted = months[date_posted.split(' ')[0]]\n",
    "    year_posted = int(date_posted.split(' ')[-1])\n",
    "    \n",
    "    date_feat[year_posted - 2010] = 1\n",
    "    date_feat[4 + month_posted] = 1\n",
    "    \n",
    "    feat.extend(date_feat)\n",
    "    feat.extend(tag_feat)\n",
    "    feat.extend(tfidf)\n",
    "    \n",
    "    return feat"
   ]
  },
  {
   "cell_type": "code",
   "execution_count": 553,
   "metadata": {},
   "outputs": [],
   "source": [
    "X_train = [feature(i, x) for (i, x) in enumerate(data_train)]"
   ]
  },
  {
   "cell_type": "code",
   "execution_count": 554,
   "metadata": {},
   "outputs": [
    {
     "data": {
      "text/plain": [
       "True"
      ]
     },
     "execution_count": 554,
     "metadata": {},
     "output_type": "execute_result"
    }
   ],
   "source": [
    "len(X_train) == len(Y_train)"
   ]
  },
  {
   "cell_type": "code",
   "execution_count": 555,
   "metadata": {},
   "outputs": [
    {
     "data": {
      "text/plain": [
       "268"
      ]
     },
     "execution_count": 555,
     "metadata": {},
     "output_type": "execute_result"
    }
   ],
   "source": [
    "len(X_train[0])"
   ]
  },
  {
   "cell_type": "code",
   "execution_count": 556,
   "metadata": {
    "scrolled": true
   },
   "outputs": [
    {
     "data": {
      "text/plain": [
       "0.4740225813128263"
      ]
     },
     "execution_count": 556,
     "metadata": {},
     "output_type": "execute_result"
    }
   ],
   "source": [
    "sk_X = np.array(X_train)\n",
    "sk_Y = np.array(Y_train)\n",
    "\n",
    "reg = LinearRegression(normalize=True).fit(sk_X, sk_Y)\n",
    "\n",
    "reg.score(sk_X, sk_Y)"
   ]
  },
  {
   "cell_type": "code",
   "execution_count": 557,
   "metadata": {},
   "outputs": [],
   "source": [
    "X_valid = [feature(i, x) for (i, x) in enumerate(data_valid)]"
   ]
  },
  {
   "cell_type": "code",
   "execution_count": 558,
   "metadata": {},
   "outputs": [],
   "source": [
    "predictions = reg.predict(X_valid)"
   ]
  },
  {
   "cell_type": "code",
   "execution_count": 559,
   "metadata": {},
   "outputs": [
    {
     "data": {
      "text/plain": [
       "55.70752761725031"
      ]
     },
     "execution_count": 559,
     "metadata": {},
     "output_type": "execute_result"
    }
   ],
   "source": [
    "metrics.mean_squared_error(Y_valid, predictions)"
   ]
  },
  {
   "cell_type": "code",
   "execution_count": 560,
   "metadata": {},
   "outputs": [
    {
     "data": {
      "text/plain": [
       "0.6072685334578091"
      ]
     },
     "execution_count": 560,
     "metadata": {},
     "output_type": "execute_result"
    }
   ],
   "source": [
    "metrics.r2_score(Y_valid, predictions)"
   ]
  },
  {
   "cell_type": "markdown",
   "metadata": {},
   "source": [
    "Best results so far:\n",
    "\n",
    "tfidf components: 150\n",
    "\n",
    "tags: 150\n",
    "\n",
    "r2 = 0.607\n",
    "\n",
    "m2e = 56.12"
   ]
  },
  {
   "cell_type": "markdown",
   "metadata": {},
   "source": [
    "# Coefficient analysis:"
   ]
  },
  {
   "cell_type": "code",
   "execution_count": 570,
   "metadata": {},
   "outputs": [
    {
     "data": {
      "text/plain": [
       "268"
      ]
     },
     "execution_count": 570,
     "metadata": {},
     "output_type": "execute_result"
    }
   ],
   "source": [
    "coefs = reg.coef_\n",
    "len(coefs)"
   ]
  },
  {
   "cell_type": "code",
   "execution_count": 571,
   "metadata": {},
   "outputs": [],
   "source": [
    "year_coef = coefs[:6]\n",
    "month_coef = coefs[6:18]\n",
    "tags_coef = coefs[19:169]\n",
    "words_coef = coefs[169:]"
   ]
  },
  {
   "cell_type": "code",
   "execution_count": 563,
   "metadata": {},
   "outputs": [
    {
     "data": {
      "text/plain": [
       "array([-3.26866016, -2.78570152, -2.72560426, -1.05060549, -0.61275363,\n",
       "        0.58883588])"
      ]
     },
     "execution_count": 563,
     "metadata": {},
     "output_type": "execute_result"
    }
   ],
   "source": [
    "year_coef"
   ]
  },
  {
   "cell_type": "code",
   "execution_count": 566,
   "metadata": {},
   "outputs": [
    {
     "data": {
      "text/plain": [
       "[('January', 0.14334168104279602),\n",
       " ('February', 1.0174508761290748),\n",
       " ('March', 0.6645028017194995),\n",
       " ('April', 0.36814513835958634),\n",
       " ('May', 1.1448400148407307),\n",
       " ('June', 1.0665462614337027),\n",
       " ('July', 0.8124163791751041),\n",
       " ('August', 0.7660104907181801),\n",
       " ('September', 1.3436723749471253),\n",
       " ('October', 0.8883441764267666),\n",
       " ('November', -111636763520304.38),\n",
       " ('December', -169682808256498.97)]"
      ]
     },
     "execution_count": 566,
     "metadata": {},
     "output_type": "execute_result"
    }
   ],
   "source": [
    "list(zip(months.keys(), month_coef))"
   ]
  },
  {
   "cell_type": "code",
   "execution_count": 573,
   "metadata": {},
   "outputs": [],
   "source": [
    "tag_weights = list(zip(tag_choices, tags_coef))"
   ]
  },
  {
   "cell_type": "code",
   "execution_count": 575,
   "metadata": {},
   "outputs": [],
   "source": [
    "tag_weights.sort(reverse=True, key=lambda x: x[1])"
   ]
  },
  {
   "cell_type": "code",
   "execution_count": 576,
   "metadata": {
    "scrolled": true
   },
   "outputs": [
    {
     "data": {
      "text/plain": [
       "[('Episodic', 33.623113175726445),\n",
       " ('Violent', 18.464525365245247),\n",
       " ('Memes', 9.099876144651885),\n",
       " ('Top-Down', 9.06766929456968),\n",
       " ('Perma Death', 8.446572632562361)]"
      ]
     },
     "execution_count": 576,
     "metadata": {},
     "output_type": "execute_result"
    }
   ],
   "source": [
    "tag_weights[:5]"
   ]
  },
  {
   "cell_type": "code",
   "execution_count": 585,
   "metadata": {},
   "outputs": [],
   "source": [
    "r = [(t, c*tag_counts[t]) for (t, c) in tag_weights]\n",
    "r.sort(reverse=True, key=lambda x: x[1])"
   ]
  },
  {
   "cell_type": "code",
   "execution_count": 586,
   "metadata": {},
   "outputs": [
    {
     "data": {
      "text/plain": [
       "[('Online Co-Op', 48157.02423792303),\n",
       " ('Moddable', 42320.20943002208),\n",
       " ('Adventure', 39078.63796411132),\n",
       " ('Third Person', 34113.19623629146),\n",
       " ('Tactical', 32968.240913991474)]"
      ]
     },
     "execution_count": 586,
     "metadata": {},
     "output_type": "execute_result"
    }
   ],
   "source": [
    "r[:5]"
   ]
  },
  {
   "cell_type": "code",
   "execution_count": 572,
   "metadata": {},
   "outputs": [
    {
     "data": {
      "text/plain": [
       "-0.18081967139927604"
      ]
     },
     "execution_count": 572,
     "metadata": {},
     "output_type": "execute_result"
    }
   ],
   "source": [
    "sum(words_coef)/len(words_coef)"
   ]
  },
  {
   "cell_type": "code",
   "execution_count": null,
   "metadata": {},
   "outputs": [],
   "source": []
  }
 ],
 "metadata": {
  "kernelspec": {
   "display_name": "Python 3",
   "language": "python",
   "name": "python3"
  },
  "language_info": {
   "codemirror_mode": {
    "name": "ipython",
    "version": 3
   },
   "file_extension": ".py",
   "mimetype": "text/x-python",
   "name": "python",
   "nbconvert_exporter": "python",
   "pygments_lexer": "ipython3",
   "version": "3.7.3"
  }
 },
 "nbformat": 4,
 "nbformat_minor": 2
}
